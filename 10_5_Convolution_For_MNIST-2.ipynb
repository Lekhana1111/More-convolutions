{
  "nbformat": 4,
  "nbformat_minor": 0,
  "metadata": {
    "colab": {
      "provenance": []
    },
    "kernelspec": {
      "name": "python3",
      "display_name": "Python 3"
    },
    "language_info": {
      "name": "python"
    }
  },
  "cells": [
    {
      "cell_type": "markdown",
      "metadata": {
        "id": "view-in-github"
      },
      "source": [
        "<a href=\"https://colab.research.google.com/github/udlbook/udlbook/blob/main/Notebooks/Chap10/10_5_Convolution_For_MNIST.ipynb\" target=\"_parent\"><img src=\"https://colab.research.google.com/assets/colab-badge.svg\" alt=\"Open In Colab\"/></a>"
      ]
    },
    {
      "cell_type": "markdown",
      "source": [
        "# **Notebook 10.5: Convolution for MNIST**\n",
        "\n",
        "This notebook builds a proper network for 2D convolution.  It works with the MNIST dataset (figure 15.15a), which was the original classic dataset for classifying images.  The network will take a 28x28 grayscale image and classify it into one of 10 classes representing a digit.\n",
        "\n",
        "The code is adapted from https://nextjournal.com/gkoehler/pytorch-mnist\n",
        "\n",
        "Work through the cells below, running each cell in turn. In various places you will see the words \"TO DO\". Follow the instructions at these places and make predictions about what is going to happen or write code to complete the functions.\n",
        "\n",
        "Contact me at udlbookmail@gmail.com if you find any mistakes or have any suggestions.\n"
      ],
      "metadata": {
        "id": "t9vk9Elugvmi"
      }
    },
    {
      "cell_type": "code",
      "source": [
        "import torch\n",
        "import torchvision\n",
        "import torch.nn as nn\n",
        "import torch.nn.functional as F\n",
        "import torch.optim as optim\n",
        "import matplotlib.pyplot as plt\n",
        "import random"
      ],
      "metadata": {
        "id": "YrXWAH7sUWvU"
      },
      "execution_count": 2,
      "outputs": []
    },
    {
      "cell_type": "code",
      "source": [
        "# Run this once to load the train and test data straight into a dataloader class\n",
        "# that will provide the batches\n",
        "\n",
        "# (It may complain that some files are missing because the files seem to have been\n",
        "# reorganized on the underlying website, but it still seems to work). If everything is working\n",
        "# properly, then the whole notebook should run to the end without further problems\n",
        "# even before you make changes.\n",
        "batch_size_train = 64\n",
        "batch_size_test = 1000\n",
        "\n",
        "# TODO Change this directory to point towards an existing directory\n",
        "myDir = '/files/'\n",
        "\n",
        "train_loader = torch.utils.data.DataLoader(\n",
        "  torchvision.datasets.MNIST(myDir, train=True, download=True,\n",
        "                             transform=torchvision.transforms.Compose([\n",
        "                               torchvision.transforms.ToTensor(),\n",
        "                               torchvision.transforms.Normalize(\n",
        "                                 (0.1307,), (0.3081,))\n",
        "                             ])),\n",
        "  batch_size=batch_size_train, shuffle=True)\n",
        "\n",
        "test_loader = torch.utils.data.DataLoader(\n",
        "  torchvision.datasets.MNIST(myDir, train=False, download=True,\n",
        "                             transform=torchvision.transforms.Compose([\n",
        "                               torchvision.transforms.ToTensor(),\n",
        "                               torchvision.transforms.Normalize(\n",
        "                                 (0.1307,), (0.3081,))\n",
        "                             ])),\n",
        "  batch_size=batch_size_test, shuffle=True)"
      ],
      "metadata": {
        "id": "wScBGXXFVadm",
        "colab": {
          "base_uri": "https://localhost:8080/"
        },
        "outputId": "4d630c91-6f64-478e-c087-f8a4a241fab6"
      },
      "execution_count": 3,
      "outputs": [
        {
          "output_type": "stream",
          "name": "stdout",
          "text": [
            "Downloading http://yann.lecun.com/exdb/mnist/train-images-idx3-ubyte.gz\n",
            "Failed to download (trying next):\n",
            "<urlopen error [SSL: CERTIFICATE_VERIFY_FAILED] certificate verify failed: certificate has expired (_ssl.c:1007)>\n",
            "\n",
            "Downloading https://ossci-datasets.s3.amazonaws.com/mnist/train-images-idx3-ubyte.gz\n",
            "Downloading https://ossci-datasets.s3.amazonaws.com/mnist/train-images-idx3-ubyte.gz to /files/MNIST/raw/train-images-idx3-ubyte.gz\n"
          ]
        },
        {
          "output_type": "stream",
          "name": "stderr",
          "text": [
            "100%|██████████| 9.91M/9.91M [00:01<00:00, 5.78MB/s]\n"
          ]
        },
        {
          "output_type": "stream",
          "name": "stdout",
          "text": [
            "Extracting /files/MNIST/raw/train-images-idx3-ubyte.gz to /files/MNIST/raw\n",
            "\n",
            "Downloading http://yann.lecun.com/exdb/mnist/train-labels-idx1-ubyte.gz\n",
            "Failed to download (trying next):\n",
            "<urlopen error [SSL: CERTIFICATE_VERIFY_FAILED] certificate verify failed: certificate has expired (_ssl.c:1007)>\n",
            "\n",
            "Downloading https://ossci-datasets.s3.amazonaws.com/mnist/train-labels-idx1-ubyte.gz\n",
            "Downloading https://ossci-datasets.s3.amazonaws.com/mnist/train-labels-idx1-ubyte.gz to /files/MNIST/raw/train-labels-idx1-ubyte.gz\n"
          ]
        },
        {
          "output_type": "stream",
          "name": "stderr",
          "text": [
            "100%|██████████| 28.9k/28.9k [00:00<00:00, 153kB/s]\n"
          ]
        },
        {
          "output_type": "stream",
          "name": "stdout",
          "text": [
            "Extracting /files/MNIST/raw/train-labels-idx1-ubyte.gz to /files/MNIST/raw\n",
            "\n",
            "Downloading http://yann.lecun.com/exdb/mnist/t10k-images-idx3-ubyte.gz\n",
            "Failed to download (trying next):\n",
            "<urlopen error [SSL: CERTIFICATE_VERIFY_FAILED] certificate verify failed: certificate has expired (_ssl.c:1007)>\n",
            "\n",
            "Downloading https://ossci-datasets.s3.amazonaws.com/mnist/t10k-images-idx3-ubyte.gz\n",
            "Downloading https://ossci-datasets.s3.amazonaws.com/mnist/t10k-images-idx3-ubyte.gz to /files/MNIST/raw/t10k-images-idx3-ubyte.gz\n"
          ]
        },
        {
          "output_type": "stream",
          "name": "stderr",
          "text": [
            "100%|██████████| 1.65M/1.65M [00:01<00:00, 1.45MB/s]\n"
          ]
        },
        {
          "output_type": "stream",
          "name": "stdout",
          "text": [
            "Extracting /files/MNIST/raw/t10k-images-idx3-ubyte.gz to /files/MNIST/raw\n",
            "\n",
            "Downloading http://yann.lecun.com/exdb/mnist/t10k-labels-idx1-ubyte.gz\n",
            "Failed to download (trying next):\n",
            "<urlopen error [SSL: CERTIFICATE_VERIFY_FAILED] certificate verify failed: certificate has expired (_ssl.c:1007)>\n",
            "\n",
            "Downloading https://ossci-datasets.s3.amazonaws.com/mnist/t10k-labels-idx1-ubyte.gz\n",
            "Downloading https://ossci-datasets.s3.amazonaws.com/mnist/t10k-labels-idx1-ubyte.gz to /files/MNIST/raw/t10k-labels-idx1-ubyte.gz\n"
          ]
        },
        {
          "output_type": "stream",
          "name": "stderr",
          "text": [
            "100%|██████████| 4.54k/4.54k [00:00<00:00, 8.07MB/s]"
          ]
        },
        {
          "output_type": "stream",
          "name": "stdout",
          "text": [
            "Extracting /files/MNIST/raw/t10k-labels-idx1-ubyte.gz to /files/MNIST/raw\n",
            "\n"
          ]
        },
        {
          "output_type": "stream",
          "name": "stderr",
          "text": [
            "\n"
          ]
        }
      ]
    },
    {
      "cell_type": "code",
      "source": [
        "# Let's draw some of the training data\n",
        "examples = enumerate(test_loader)\n",
        "batch_idx, (example_data, example_targets) = next(examples)\n",
        "\n",
        "fig = plt.figure()\n",
        "for i in range(6):\n",
        "  plt.subplot(2,3,i+1)\n",
        "  plt.tight_layout()\n",
        "  plt.imshow(example_data[i][0], cmap='gray', interpolation='none')\n",
        "  plt.title(\"Ground Truth: {}\".format(example_targets[i]))\n",
        "  plt.xticks([])\n",
        "  plt.yticks([])\n",
        "plt.show()"
      ],
      "metadata": {
        "id": "8bKADvLHbiV5",
        "colab": {
          "base_uri": "https://localhost:8080/",
          "height": 438
        },
        "outputId": "b6594f2e-13e6-46a2-e5a5-452f41bdf650"
      },
      "execution_count": 4,
      "outputs": [
        {
          "output_type": "display_data",
          "data": {
            "text/plain": [
              "<Figure size 640x480 with 6 Axes>"
            ],
            "image/png": "[encoded data removed]"
          },
          "metadata": {}
        }
      ]
    },
    {
      "cell_type": "markdown",
      "source": [
        "Define the network.  This is a more typical way to define a network than the sequential structure.  We define a class for the network, and define the parameters in the constructor.  Then we use a function called forward to actually run the network.  It's easy to see how you might use residual connections in this format."
      ],
      "metadata": {
        "id": "_sFvRDGrl4qe"
      }
    },
    {
      "cell_type": "code",
      "source": [
        "from os import X_OK\n",
        "# TODO Change this class to implement\n",
        "# 1. A valid convolution with kernel size 5, 1 input channel and 10 output channels\n",
        "# 2. A max pooling operation over a 2x2 area\n",
        "# 3. A Relu\n",
        "# 4. A valid convolution with kernel size 5, 10 input channels and 20 output channels\n",
        "# 5. A 2D Dropout layer\n",
        "# 6. A max pooling operation over a 2x2 area\n",
        "# 7. A relu\n",
        "# 8. A flattening operation\n",
        "# 9. A fully connected layer mapping from (whatever dimensions we are at-- find out using .shape) to 50\n",
        "# 10. A ReLU\n",
        "# 11. A fully connected layer mapping from 50 to 10 dimensions\n",
        "# 12. A softmax function.\n",
        "\n",
        "# Replace this class which implements a minimal network (which still does okay)\n",
        "# TODO Change this class to implement\n",
        "# 1. A valid convolution with kernel size 5, 1 input channel and 10 output channels\n",
        "# 2. A max pooling operation over a 2x2 area\n",
        "# 3. A ReLU\n",
        "# 4. A valid convolution with kernel size 5, 10 input channels and 20 output channels\n",
        "# 5. A 2D Dropout layer\n",
        "# 6. A max pooling operation over a 2x2 area\n",
        "# 7. A ReLU\n",
        "# 8. A flattening operation\n",
        "# 9. A fully connected layer mapping from (whatever dimensions we are at-- find out using .shape) to 50\n",
        "# 10. A ReLU\n",
        "# 11. A fully connected layer mapping from 50 to 10 dimensions\n",
        "# 12. A softmax function.\n",
        "\n",
        "\n",
        "class Net(nn.Module):\n",
        "    def __init__(self):\n",
        "        super(Net, self).__init__()\n",
        "        # 1. Valid convolution: 1 input channel, 10 output channels, kernel size 5\n",
        "        self.conv1 = nn.Conv2d(in_channels=1, out_channels=10, kernel_size=5)\n",
        "\n",
        "        # 4. Valid convolution: 10 input channels, 20 output channels, kernel size 5\n",
        "        self.conv2 = nn.Conv2d(in_channels=10, out_channels=20, kernel_size=5)\n",
        "\n",
        "        # 5. Dropout layer for 2D feature maps\n",
        "        self.drop = nn.Dropout2d()\n",
        "\n",
        "        # 9. Fully connected layer to map flattened output to 50 dimensions\n",
        "        self.fc1 = nn.Linear(320, 50)  # Adjust the input dimension based on actual flattened size\n",
        "\n",
        "        # 11. Fully connected layer to map 50 to 10 dimensions\n",
        "        self.fc2 = nn.Linear(50, 10)\n",
        "\n",
        "    def forward(self, x):\n",
        "        # 1. First convolution\n",
        "        x = self.conv1(x)\n",
        "\n",
        "        # 2. Max pooling over 2x2 area\n",
        "        x = F.max_pool2d(x, 2)\n",
        "\n",
        "        # 3. ReLU activation\n",
        "        x = F.relu(x)\n",
        "\n",
        "        # 4. Second convolution\n",
        "        x = self.conv2(x)\n",
        "\n",
        "        # 6. Max pooling over 2x2 area\n",
        "        x = F.max_pool2d(x, 2)\n",
        "\n",
        "        # 7. ReLU activation\n",
        "        x = F.relu(x)\n",
        "\n",
        "        # 5. Apply dropout\n",
        "        x = self.drop(x)\n",
        "\n",
        "        # 8. Flatten operation\n",
        "        x = x.view(x.size(0), -1)\n",
        "\n",
        "        # 9. Fully connected layer to 50 dimensions\n",
        "        x = self.fc1(x)\n",
        "\n",
        "        # 10. ReLU activation\n",
        "        x = F.relu(x)\n",
        "\n",
        "        # 11. Fully connected layer to 10 dimensions\n",
        "        x = self.fc2(x)\n",
        "\n",
        "        # 12. Softmax function for output\n",
        "        x = F.log_softmax(x, dim=1)\n",
        "\n",
        "        return x\n",
        "\n",
        "\n",
        "\n"
      ],
      "metadata": {
        "id": "EQkvw2KOPVl7"
      },
      "execution_count": 5,
      "outputs": []
    },
    {
      "cell_type": "code",
      "source": [
        "# He initialization of weights\n",
        "def weights_init(layer_in):\n",
        "  if isinstance(layer_in, nn.Linear):\n",
        "    nn.init.kaiming_uniform_(layer_in.weight)\n",
        "    layer_in.bias.data.fill_(0.0)"
      ],
      "metadata": {
        "id": "qWZtkCZcU_dg"
      },
      "execution_count": 6,
      "outputs": []
    },
    {
      "cell_type": "code",
      "source": [
        "# Create network\n",
        "model = Net()\n",
        "# Initialize model weights\n",
        "model.apply(weights_init)\n",
        "# Define optimizer\n",
        "optimizer = optim.SGD(model.parameters(), lr=0.01, momentum=0.5)"
      ],
      "metadata": {
        "id": "FslroPJJffrh"
      },
      "execution_count": 7,
      "outputs": []
    },
    {
      "cell_type": "code",
      "source": [
        "# Main training routine\n",
        "def train(epoch):\n",
        "  model.train()\n",
        "  # Get each\n",
        "  for batch_idx, (data, target) in enumerate(train_loader):\n",
        "    optimizer.zero_grad()\n",
        "    output = model(data)\n",
        "    loss = F.nll_loss(output, target)\n",
        "    loss.backward()\n",
        "    optimizer.step()\n",
        "    # Store results\n",
        "    if batch_idx % 10 == 0:\n",
        "      print('Train Epoch: {} [{}/{}]\\tLoss: {:.6f}'.format(\n",
        "        epoch, batch_idx * len(data), len(train_loader.dataset), loss.item()))"
      ],
      "metadata": {
        "id": "xKQd9PzkQ766"
      },
      "execution_count": 8,
      "outputs": []
    },
    {
      "cell_type": "code",
      "source": [
        "# Run on test data\n",
        "def test():\n",
        "  model.eval()\n",
        "  test_loss = 0\n",
        "  correct = 0\n",
        "  with torch.no_grad():\n",
        "    for data, target in test_loader:\n",
        "      output = model(data)\n",
        "      test_loss += F.nll_loss(output, target, size_average=False).item()\n",
        "      pred = output.data.max(1, keepdim=True)[1]\n",
        "      correct += pred.eq(target.data.view_as(pred)).sum()\n",
        "  test_loss /= len(test_loader.dataset)\n",
        "  print('\\nTest set: Avg. loss: {:.4f}, Accuracy: {}/{} ({:.0f}%)\\n'.format(\n",
        "    test_loss, correct, len(test_loader.dataset),\n",
        "    100. * correct / len(test_loader.dataset)))"
      ],
      "metadata": {
        "id": "Byn-f7qWRLxX"
      },
      "execution_count": 9,
      "outputs": []
    },
    {
      "cell_type": "code",
      "source": [
        "# Get initial performance\n",
        "test()\n",
        "# Train for three epochs\n",
        "n_epochs = 3\n",
        "for epoch in range(1, n_epochs + 1):\n",
        "  train(epoch)\n",
        "  test()"
      ],
      "metadata": {
        "id": "YgLaex1pfhqz",
        "colab": {
          "base_uri": "https://localhost:8080/"
        },
        "outputId": "9b110c36-f183-43ec-d107-f23c84dfbce9"
      },
      "execution_count": 10,
      "outputs": [
        {
          "output_type": "stream",
          "name": "stderr",
          "text": [
            "/usr/local/lib/python3.10/dist-packages/torch/nn/_reduction.py:51: UserWarning: size_average and reduce args will be deprecated, please use reduction='sum' instead.\n",
            "  warnings.warn(warning.format(ret))\n"
          ]
        },
        {
          "output_type": "stream",
          "name": "stdout",
          "text": [
            "\n",
            "Test set: Avg. loss: 2.4134, Accuracy: 1057/10000 (11%)\n",
            "\n",
            "Train Epoch: 1 [0/60000]\tLoss: 2.441847\n",
            "Train Epoch: 1 [640/60000]\tLoss: 2.190012\n",
            "Train Epoch: 1 [1280/60000]\tLoss: 2.074115\n",
            "Train Epoch: 1 [1920/60000]\tLoss: 1.892225\n",
            "Train Epoch: 1 [2560/60000]\tLoss: 1.800419\n",
            "Train Epoch: 1 [3200/60000]\tLoss: 1.121542\n",
            "Train Epoch: 1 [3840/60000]\tLoss: 1.206019\n",
            "Train Epoch: 1 [4480/60000]\tLoss: 1.147468\n",
            "Train Epoch: 1 [5120/60000]\tLoss: 0.798065\n",
            "Train Epoch: 1 [5760/60000]\tLoss: 0.989752\n",
            "Train Epoch: 1 [6400/60000]\tLoss: 0.723114\n",
            "Train Epoch: 1 [7040/60000]\tLoss: 0.512240\n",
            "Train Epoch: 1 [7680/60000]\tLoss: 1.047407\n",
            "Train Epoch: 1 [8320/60000]\tLoss: 0.568343\n",
            "Train Epoch: 1 [8960/60000]\tLoss: 0.722864\n",
            "Train Epoch: 1 [9600/60000]\tLoss: 0.579270\n",
            "Train Epoch: 1 [10240/60000]\tLoss: 0.594783\n",
            "Train Epoch: 1 [10880/60000]\tLoss: 0.580025\n",
            "Train Epoch: 1 [11520/60000]\tLoss: 0.605820\n",
            "Train Epoch: 1 [12160/60000]\tLoss: 0.686841\n",
            "Train Epoch: 1 [12800/60000]\tLoss: 0.443161\n",
            "Train Epoch: 1 [13440/60000]\tLoss: 0.308684\n",
            "Train Epoch: 1 [14080/60000]\tLoss: 0.463483\n",
            "Train Epoch: 1 [14720/60000]\tLoss: 0.734136\n",
            "Train Epoch: 1 [15360/60000]\tLoss: 0.452313\n",
            "Train Epoch: 1 [16000/60000]\tLoss: 0.357504\n",
            "Train Epoch: 1 [16640/60000]\tLoss: 0.549215\n",
            "Train Epoch: 1 [17280/60000]\tLoss: 0.496300\n",
            "Train Epoch: 1 [17920/60000]\tLoss: 0.500340\n",
            "Train Epoch: 1 [18560/60000]\tLoss: 0.551093\n",
            "Train Epoch: 1 [19200/60000]\tLoss: 0.500495\n",
            "Train Epoch: 1 [19840/60000]\tLoss: 0.389064\n",
            "Train Epoch: 1 [20480/60000]\tLoss: 0.280921\n",
            "Train Epoch: 1 [21120/60000]\tLoss: 0.443320\n",
            "Train Epoch: 1 [21760/60000]\tLoss: 0.418777\n",
            "Train Epoch: 1 [22400/60000]\tLoss: 0.563556\n",
            "Train Epoch: 1 [23040/60000]\tLoss: 0.249234\n",
            "Train Epoch: 1 [23680/60000]\tLoss: 0.604484\n",
            "Train Epoch: 1 [24320/60000]\tLoss: 0.242118\n",
            "Train Epoch: 1 [24960/60000]\tLoss: 0.608323\n",
            "Train Epoch: 1 [25600/60000]\tLoss: 0.235217\n",
            "Train Epoch: 1 [26240/60000]\tLoss: 0.508090\n",
            "Train Epoch: 1 [26880/60000]\tLoss: 0.148372\n",
            "Train Epoch: 1 [27520/60000]\tLoss: 0.354297\n",
            "Train Epoch: 1 [28160/60000]\tLoss: 0.483791\n",
            "Train Epoch: 1 [28800/60000]\tLoss: 0.243178\n",
            "Train Epoch: 1 [29440/60000]\tLoss: 0.369421\n",
            "Train Epoch: 1 [30080/60000]\tLoss: 0.340551\n",
            "Train Epoch: 1 [30720/60000]\tLoss: 0.231974\n",
            "Train Epoch: 1 [31360/60000]\tLoss: 0.243210\n",
            "Train Epoch: 1 [32000/60000]\tLoss: 0.329795\n",
            "Train Epoch: 1 [32640/60000]\tLoss: 0.459746\n",
            "Train Epoch: 1 [33280/60000]\tLoss: 0.206611\n",
            "Train Epoch: 1 [33920/60000]\tLoss: 0.444725\n",
            "Train Epoch: 1 [34560/60000]\tLoss: 0.304736\n",
            "Train Epoch: 1 [35200/60000]\tLoss: 0.297644\n",
            "Train Epoch: 1 [35840/60000]\tLoss: 0.158047\n",
            "Train Epoch: 1 [36480/60000]\tLoss: 0.296574\n",
            "Train Epoch: 1 [37120/60000]\tLoss: 0.198961\n",
            "Train Epoch: 1 [37760/60000]\tLoss: 0.395602\n",
            "Train Epoch: 1 [38400/60000]\tLoss: 0.147948\n",
            "Train Epoch: 1 [39040/60000]\tLoss: 0.469524\n",
            "Train Epoch: 1 [39680/60000]\tLoss: 0.266651\n",
            "Train Epoch: 1 [40320/60000]\tLoss: 0.318896\n",
            "Train Epoch: 1 [40960/60000]\tLoss: 0.413613\n",
            "Train Epoch: 1 [41600/60000]\tLoss: 0.363943\n",
            "Train Epoch: 1 [42240/60000]\tLoss: 0.507710\n",
            "Train Epoch: 1 [42880/60000]\tLoss: 0.200360\n",
            "Train Epoch: 1 [43520/60000]\tLoss: 0.144493\n",
            "Train Epoch: 1 [44160/60000]\tLoss: 0.318426\n",
            "Train Epoch: 1 [44800/60000]\tLoss: 0.441884\n",
            "Train Epoch: 1 [45440/60000]\tLoss: 0.260654\n",
            "Train Epoch: 1 [46080/60000]\tLoss: 0.251238\n",
            "Train Epoch: 1 [46720/60000]\tLoss: 0.172703\n",
            "Train Epoch: 1 [47360/60000]\tLoss: 0.356644\n",
            "Train Epoch: 1 [48000/60000]\tLoss: 0.272219\n",
            "Train Epoch: 1 [48640/60000]\tLoss: 0.273401\n",
            "Train Epoch: 1 [49280/60000]\tLoss: 0.226462\n",
            "Train Epoch: 1 [49920/60000]\tLoss: 0.279762\n",
            "Train Epoch: 1 [50560/60000]\tLoss: 0.186858\n",
            "Train Epoch: 1 [51200/60000]\tLoss: 0.154059\n",
            "Train Epoch: 1 [51840/60000]\tLoss: 0.120970\n",
            "Train Epoch: 1 [52480/60000]\tLoss: 0.128579\n",
            "Train Epoch: 1 [53120/60000]\tLoss: 0.302531\n",
            "Train Epoch: 1 [53760/60000]\tLoss: 0.421981\n",
            "Train Epoch: 1 [54400/60000]\tLoss: 0.162110\n",
            "Train Epoch: 1 [55040/60000]\tLoss: 0.318564\n",
            "Train Epoch: 1 [55680/60000]\tLoss: 0.126245\n",
            "Train Epoch: 1 [56320/60000]\tLoss: 0.260631\n",
            "Train Epoch: 1 [56960/60000]\tLoss: 0.262204\n",
            "Train Epoch: 1 [57600/60000]\tLoss: 0.497930\n",
            "Train Epoch: 1 [58240/60000]\tLoss: 0.214004\n",
            "Train Epoch: 1 [58880/60000]\tLoss: 0.237972\n",
            "Train Epoch: 1 [59520/60000]\tLoss: 0.253904\n",
            "\n",
            "Test set: Avg. loss: 0.1232, Accuracy: 9619/10000 (96%)\n",
            "\n",
            "Train Epoch: 2 [0/60000]\tLoss: 0.112448\n",
            "Train Epoch: 2 [640/60000]\tLoss: 0.209972\n",
            "Train Epoch: 2 [1280/60000]\tLoss: 0.554632\n",
            "Train Epoch: 2 [1920/60000]\tLoss: 0.164081\n",
            "Train Epoch: 2 [2560/60000]\tLoss: 0.332101\n",
            "Train Epoch: 2 [3200/60000]\tLoss: 0.131880\n",
            "Train Epoch: 2 [3840/60000]\tLoss: 0.284745\n",
            "Train Epoch: 2 [4480/60000]\tLoss: 0.095244\n",
            "Train Epoch: 2 [5120/60000]\tLoss: 0.272667\n",
            "Train Epoch: 2 [5760/60000]\tLoss: 0.145837\n",
            "Train Epoch: 2 [6400/60000]\tLoss: 0.207597\n",
            "Train Epoch: 2 [7040/60000]\tLoss: 0.141012\n",
            "Train Epoch: 2 [7680/60000]\tLoss: 0.208481\n",
            "Train Epoch: 2 [8320/60000]\tLoss: 0.208139\n",
            "Train Epoch: 2 [8960/60000]\tLoss: 0.176670\n",
            "Train Epoch: 2 [9600/60000]\tLoss: 0.137489\n",
            "Train Epoch: 2 [10240/60000]\tLoss: 0.266057\n",
            "Train Epoch: 2 [10880/60000]\tLoss: 0.175050\n",
            "Train Epoch: 2 [11520/60000]\tLoss: 0.163294\n",
            "Train Epoch: 2 [12160/60000]\tLoss: 0.221908\n",
            "Train Epoch: 2 [12800/60000]\tLoss: 0.075527\n",
            "Train Epoch: 2 [13440/60000]\tLoss: 0.265084\n",
            "Train Epoch: 2 [14080/60000]\tLoss: 0.330529\n",
            "Train Epoch: 2 [14720/60000]\tLoss: 0.125943\n",
            "Train Epoch: 2 [15360/60000]\tLoss: 0.226557\n",
            "Train Epoch: 2 [16000/60000]\tLoss: 0.214041\n",
            "Train Epoch: 2 [16640/60000]\tLoss: 0.103379\n",
            "Train Epoch: 2 [17280/60000]\tLoss: 0.110455\n",
            "Train Epoch: 2 [17920/60000]\tLoss: 0.101349\n",
            "Train Epoch: 2 [18560/60000]\tLoss: 0.224334\n",
            "Train Epoch: 2 [19200/60000]\tLoss: 0.084926\n",
            "Train Epoch: 2 [19840/60000]\tLoss: 0.141393\n",
            "Train Epoch: 2 [20480/60000]\tLoss: 0.106788\n",
            "Train Epoch: 2 [21120/60000]\tLoss: 0.110843\n",
            "Train Epoch: 2 [21760/60000]\tLoss: 0.187260\n",
            "Train Epoch: 2 [22400/60000]\tLoss: 0.168687\n",
            "Train Epoch: 2 [23040/60000]\tLoss: 0.154737\n",
            "Train Epoch: 2 [23680/60000]\tLoss: 0.182003\n",
            "Train Epoch: 2 [24320/60000]\tLoss: 0.223225\n",
            "Train Epoch: 2 [24960/60000]\tLoss: 0.215668\n",
            "Train Epoch: 2 [25600/60000]\tLoss: 0.061249\n",
            "Train Epoch: 2 [26240/60000]\tLoss: 0.105548\n",
            "Train Epoch: 2 [26880/60000]\tLoss: 0.212500\n",
            "Train Epoch: 2 [27520/60000]\tLoss: 0.322042\n",
            "Train Epoch: 2 [28160/60000]\tLoss: 0.182096\n",
            "Train Epoch: 2 [28800/60000]\tLoss: 0.251793\n",
            "Train Epoch: 2 [29440/60000]\tLoss: 0.126275\n",
            "Train Epoch: 2 [30080/60000]\tLoss: 0.106762\n",
            "Train Epoch: 2 [30720/60000]\tLoss: 0.036686\n",
            "Train Epoch: 2 [31360/60000]\tLoss: 0.060464\n",
            "Train Epoch: 2 [32000/60000]\tLoss: 0.161676\n",
            "Train Epoch: 2 [32640/60000]\tLoss: 0.073955\n",
            "Train Epoch: 2 [33280/60000]\tLoss: 0.132166\n",
            "Train Epoch: 2 [33920/60000]\tLoss: 0.237242\n",
            "Train Epoch: 2 [34560/60000]\tLoss: 0.523819\n",
            "Train Epoch: 2 [35200/60000]\tLoss: 0.344912\n",
            "Train Epoch: 2 [35840/60000]\tLoss: 0.279753\n",
            "Train Epoch: 2 [36480/60000]\tLoss: 0.271215\n",
            "Train Epoch: 2 [37120/60000]\tLoss: 0.234108\n",
            "Train Epoch: 2 [37760/60000]\tLoss: 0.203492\n",
            "Train Epoch: 2 [38400/60000]\tLoss: 0.174908\n",
            "Train Epoch: 2 [39040/60000]\tLoss: 0.303910\n",
            "Train Epoch: 2 [39680/60000]\tLoss: 0.119798\n",
            "Train Epoch: 2 [40320/60000]\tLoss: 0.218485\n",
            "Train Epoch: 2 [40960/60000]\tLoss: 0.096975\n",
            "Train Epoch: 2 [41600/60000]\tLoss: 0.271471\n",
            "Train Epoch: 2 [42240/60000]\tLoss: 0.270246\n",
            "Train Epoch: 2 [42880/60000]\tLoss: 0.126973\n",
            "Train Epoch: 2 [43520/60000]\tLoss: 0.232998\n",
            "Train Epoch: 2 [44160/60000]\tLoss: 0.328246\n",
            "Train Epoch: 2 [44800/60000]\tLoss: 0.141316\n",
            "Train Epoch: 2 [45440/60000]\tLoss: 0.183197\n",
            "Train Epoch: 2 [46080/60000]\tLoss: 0.081591\n",
            "Train Epoch: 2 [46720/60000]\tLoss: 0.120153\n",
            "Train Epoch: 2 [47360/60000]\tLoss: 0.176320\n",
            "Train Epoch: 2 [48000/60000]\tLoss: 0.112260\n",
            "Train Epoch: 2 [48640/60000]\tLoss: 0.227208\n",
            "Train Epoch: 2 [49280/60000]\tLoss: 0.154003\n",
            "Train Epoch: 2 [49920/60000]\tLoss: 0.073227\n",
            "Train Epoch: 2 [50560/60000]\tLoss: 0.282485\n",
            "Train Epoch: 2 [51200/60000]\tLoss: 0.062775\n",
            "Train Epoch: 2 [51840/60000]\tLoss: 0.085949\n",
            "Train Epoch: 2 [52480/60000]\tLoss: 0.356316\n",
            "Train Epoch: 2 [53120/60000]\tLoss: 0.209349\n",
            "Train Epoch: 2 [53760/60000]\tLoss: 0.291406\n",
            "Train Epoch: 2 [54400/60000]\tLoss: 0.259218\n",
            "Train Epoch: 2 [55040/60000]\tLoss: 0.147116\n",
            "Train Epoch: 2 [55680/60000]\tLoss: 0.208070\n",
            "Train Epoch: 2 [56320/60000]\tLoss: 0.040040\n",
            "Train Epoch: 2 [56960/60000]\tLoss: 0.288228\n",
            "Train Epoch: 2 [57600/60000]\tLoss: 0.196287\n",
            "Train Epoch: 2 [58240/60000]\tLoss: 0.273959\n",
            "Train Epoch: 2 [58880/60000]\tLoss: 0.193737\n",
            "Train Epoch: 2 [59520/60000]\tLoss: 0.129006\n",
            "\n",
            "Test set: Avg. loss: 0.0867, Accuracy: 9734/10000 (97%)\n",
            "\n",
            "Train Epoch: 3 [0/60000]\tLoss: 0.138466\n",
            "Train Epoch: 3 [640/60000]\tLoss: 0.169331\n",
            "Train Epoch: 3 [1280/60000]\tLoss: 0.224689\n",
            "Train Epoch: 3 [1920/60000]\tLoss: 0.118943\n",
            "Train Epoch: 3 [2560/60000]\tLoss: 0.252540\n",
            "Train Epoch: 3 [3200/60000]\tLoss: 0.106294\n",
            "Train Epoch: 3 [3840/60000]\tLoss: 0.142386\n",
            "Train Epoch: 3 [4480/60000]\tLoss: 0.104136\n",
            "Train Epoch: 3 [5120/60000]\tLoss: 0.157027\n",
            "Train Epoch: 3 [5760/60000]\tLoss: 0.213457\n",
            "Train Epoch: 3 [6400/60000]\tLoss: 0.481200\n",
            "Train Epoch: 3 [7040/60000]\tLoss: 0.413455\n",
            "Train Epoch: 3 [7680/60000]\tLoss: 0.126514\n",
            "Train Epoch: 3 [8320/60000]\tLoss: 0.120811\n",
            "Train Epoch: 3 [8960/60000]\tLoss: 0.042781\n",
            "Train Epoch: 3 [9600/60000]\tLoss: 0.239996\n",
            "Train Epoch: 3 [10240/60000]\tLoss: 0.097214\n",
            "Train Epoch: 3 [10880/60000]\tLoss: 0.141812\n",
            "Train Epoch: 3 [11520/60000]\tLoss: 0.138832\n",
            "Train Epoch: 3 [12160/60000]\tLoss: 0.236205\n",
            "Train Epoch: 3 [12800/60000]\tLoss: 0.064256\n",
            "Train Epoch: 3 [13440/60000]\tLoss: 0.173403\n",
            "Train Epoch: 3 [14080/60000]\tLoss: 0.129321\n",
            "Train Epoch: 3 [14720/60000]\tLoss: 0.196336\n",
            "Train Epoch: 3 [15360/60000]\tLoss: 0.305723\n",
            "Train Epoch: 3 [16000/60000]\tLoss: 0.168014\n",
            "Train Epoch: 3 [16640/60000]\tLoss: 0.303740\n",
            "Train Epoch: 3 [17280/60000]\tLoss: 0.091023\n",
            "Train Epoch: 3 [17920/60000]\tLoss: 0.236405\n",
            "Train Epoch: 3 [18560/60000]\tLoss: 0.388012\n",
            "Train Epoch: 3 [19200/60000]\tLoss: 0.219841\n",
            "Train Epoch: 3 [19840/60000]\tLoss: 0.152327\n",
            "Train Epoch: 3 [20480/60000]\tLoss: 0.156565\n",
            "Train Epoch: 3 [21120/60000]\tLoss: 0.247893\n",
            "Train Epoch: 3 [21760/60000]\tLoss: 0.215963\n",
            "Train Epoch: 3 [22400/60000]\tLoss: 0.103707\n",
            "Train Epoch: 3 [23040/60000]\tLoss: 0.115344\n",
            "Train Epoch: 3 [23680/60000]\tLoss: 0.176815\n",
            "Train Epoch: 3 [24320/60000]\tLoss: 0.185878\n",
            "Train Epoch: 3 [24960/60000]\tLoss: 0.039717\n",
            "Train Epoch: 3 [25600/60000]\tLoss: 0.144938\n",
            "Train Epoch: 3 [26240/60000]\tLoss: 0.115197\n",
            "Train Epoch: 3 [26880/60000]\tLoss: 0.117108\n",
            "Train Epoch: 3 [27520/60000]\tLoss: 0.065748\n",
            "Train Epoch: 3 [28160/60000]\tLoss: 0.165891\n",
            "Train Epoch: 3 [28800/60000]\tLoss: 0.112247\n",
            "Train Epoch: 3 [29440/60000]\tLoss: 0.109994\n",
            "Train Epoch: 3 [30080/60000]\tLoss: 0.132017\n",
            "Train Epoch: 3 [30720/60000]\tLoss: 0.057345\n",
            "Train Epoch: 3 [31360/60000]\tLoss: 0.224051\n",
            "Train Epoch: 3 [32000/60000]\tLoss: 0.138102\n",
            "Train Epoch: 3 [32640/60000]\tLoss: 0.306480\n",
            "Train Epoch: 3 [33280/60000]\tLoss: 0.113621\n",
            "Train Epoch: 3 [33920/60000]\tLoss: 0.137603\n",
            "Train Epoch: 3 [34560/60000]\tLoss: 0.052158\n",
            "Train Epoch: 3 [35200/60000]\tLoss: 0.229580\n",
            "Train Epoch: 3 [35840/60000]\tLoss: 0.152353\n",
            "Train Epoch: 3 [36480/60000]\tLoss: 0.192136\n",
            "Train Epoch: 3 [37120/60000]\tLoss: 0.307538\n",
            "Train Epoch: 3 [37760/60000]\tLoss: 0.404568\n",
            "Train Epoch: 3 [38400/60000]\tLoss: 0.081069\n",
            "Train Epoch: 3 [39040/60000]\tLoss: 0.153491\n",
            "Train Epoch: 3 [39680/60000]\tLoss: 0.077745\n",
            "Train Epoch: 3 [40320/60000]\tLoss: 0.317781\n",
            "Train Epoch: 3 [40960/60000]\tLoss: 0.128660\n",
            "Train Epoch: 3 [41600/60000]\tLoss: 0.169510\n",
            "Train Epoch: 3 [42240/60000]\tLoss: 0.100880\n",
            "Train Epoch: 3 [42880/60000]\tLoss: 0.266521\n",
            "Train Epoch: 3 [43520/60000]\tLoss: 0.174418\n",
            "Train Epoch: 3 [44160/60000]\tLoss: 0.078570\n",
            "Train Epoch: 3 [44800/60000]\tLoss: 0.043630\n",
            "Train Epoch: 3 [45440/60000]\tLoss: 0.028816\n",
            "Train Epoch: 3 [46080/60000]\tLoss: 0.038487\n",
            "Train Epoch: 3 [46720/60000]\tLoss: 0.166630\n",
            "Train Epoch: 3 [47360/60000]\tLoss: 0.246527\n",
            "Train Epoch: 3 [48000/60000]\tLoss: 0.182588\n",
            "Train Epoch: 3 [48640/60000]\tLoss: 0.059839\n",
            "Train Epoch: 3 [49280/60000]\tLoss: 0.483173\n",
            "Train Epoch: 3 [49920/60000]\tLoss: 0.073441\n",
            "Train Epoch: 3 [50560/60000]\tLoss: 0.144196\n",
            "Train Epoch: 3 [51200/60000]\tLoss: 0.188554\n",
            "Train Epoch: 3 [51840/60000]\tLoss: 0.267452\n",
            "Train Epoch: 3 [52480/60000]\tLoss: 0.049709\n",
            "Train Epoch: 3 [53120/60000]\tLoss: 0.174134\n",
            "Train Epoch: 3 [53760/60000]\tLoss: 0.164894\n",
            "Train Epoch: 3 [54400/60000]\tLoss: 0.096976\n",
            "Train Epoch: 3 [55040/60000]\tLoss: 0.071412\n",
            "Train Epoch: 3 [55680/60000]\tLoss: 0.164703\n",
            "Train Epoch: 3 [56320/60000]\tLoss: 0.210054\n",
            "Train Epoch: 3 [56960/60000]\tLoss: 0.161687\n",
            "Train Epoch: 3 [57600/60000]\tLoss: 0.188560\n",
            "Train Epoch: 3 [58240/60000]\tLoss: 0.111707\n",
            "Train Epoch: 3 [58880/60000]\tLoss: 0.097148\n",
            "Train Epoch: 3 [59520/60000]\tLoss: 0.087426\n",
            "\n",
            "Test set: Avg. loss: 0.0659, Accuracy: 9800/10000 (98%)\n",
            "\n"
          ]
        }
      ]
    },
    {
      "cell_type": "code",
      "source": [
        "# Run network on data we got before and show predictions\n",
        "output = model(example_data)\n",
        "\n",
        "fig = plt.figure()\n",
        "for i in range(10):\n",
        "  plt.subplot(5,5,i+1)\n",
        "  plt.tight_layout()\n",
        "  plt.imshow(example_data[i][0], cmap='gray', interpolation='none')\n",
        "  plt.title(\"Prediction: {}\".format(\n",
        "    output.data.max(1, keepdim=True)[1][i].item()))\n",
        "  plt.xticks([])\n",
        "  plt.yticks([])\n",
        "plt.show()"
      ],
      "metadata": {
        "id": "o7fRUAy9Se1B",
        "colab": {
          "base_uri": "https://localhost:8080/",
          "height": 207
        },
        "outputId": "10721179-d560-476b-dccf-58121e963703"
      },
      "execution_count": 11,
      "outputs": [
        {
          "output_type": "display_data",
          "data": {
            "text/plain": [
              "<Figure size 640x480 with 10 Axes>"
            ],
            "image/png": "[encoded data removed]"
          },
          "metadata": {}
        }
      ]
    }
  ]
}